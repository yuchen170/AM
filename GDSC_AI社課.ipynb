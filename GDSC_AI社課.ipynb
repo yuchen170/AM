{
  "nbformat": 4,
  "nbformat_minor": 0,
  "metadata": {
    "colab": {
      "provenance": [],
      "authorship_tag": "ABX9TyOJPKxDdPGeKBkqIOBWevsW",
      "include_colab_link": true
    },
    "kernelspec": {
      "name": "python3",
      "display_name": "Python 3"
    },
    "language_info": {
      "name": "python"
    }
  },
  "cells": [
    {
      "cell_type": "markdown",
      "metadata": {
        "id": "view-in-github",
        "colab_type": "text"
      },
      "source": [
        "<a href=\"https://colab.research.google.com/github/yuchen170/AM/blob/main/GDSC_AI%E7%A4%BE%E8%AA%B2.ipynb\" target=\"_parent\"><img src=\"https://colab.research.google.com/assets/colab-badge.svg\" alt=\"Open In Colab\"/></a>"
      ]
    },
    {
      "cell_type": "markdown",
      "source": [
        "# Step 1\n",
        "* import libraries"
      ],
      "metadata": {
        "id": "fMWSJbZ-PP0j"
      }
    },
    {
      "cell_type": "code",
      "execution_count": null,
      "metadata": {
        "id": "kIMUp2wtPK7a"
      },
      "outputs": [],
      "source": [
        "# Step 1.1 code\n"
      ]
    },
    {
      "cell_type": "markdown",
      "source": [
        "* 載入資料集"
      ],
      "metadata": {
        "id": "FJ2bCDubTmyW"
      }
    },
    {
      "cell_type": "code",
      "source": [
        "from google.colab import files\n",
        "files.upload() #上傳kaggle.json"
      ],
      "metadata": {
        "id": "rKrS7oTyUTjQ"
      },
      "execution_count": null,
      "outputs": []
    },
    {
      "cell_type": "code",
      "source": [
        "!pip install -U -q kaggle\n",
        "!mkdir -p ~/.kaggle\n",
        "!cp kaggle.json ~/.kaggle/\n",
        "!chmod 600 ~/.kaggle/kaggle.json # 讀取和執行\n",
        "!kaggle competitions download -c digit-recognizer"
      ],
      "metadata": {
        "id": "yMOW3LfMUl5q"
      },
      "execution_count": null,
      "outputs": []
    },
    {
      "cell_type": "code",
      "source": [
        "import zipfile\n",
        "zip_train = zipfile.ZipFile('/content/digit-recognizer.zip', 'r')\n",
        "zip_train.extractall('/content') # Extract the folder into content folder\n",
        "zip_train.close()"
      ],
      "metadata": {
        "id": "SlG5dEa5U0Tg"
      },
      "execution_count": null,
      "outputs": []
    },
    {
      "cell_type": "markdown",
      "source": [
        "# Step 2\n",
        "* Data Visulization"
      ],
      "metadata": {
        "id": "KdFg4bnpUxe6"
      }
    },
    {
      "cell_type": "code",
      "source": [
        "data = pd.read_csv('/content/train.csv')\n",
        "# Step 2 code\n"
      ],
      "metadata": {
        "id": "GDUY65kQVWrf"
      },
      "execution_count": null,
      "outputs": []
    },
    {
      "cell_type": "markdown",
      "source": [
        "* 資料太多了，為了讓後面訓練速度快一點這裡把資料減少一半\n",
        "* 大家之後也可以把這段拿掉練習！"
      ],
      "metadata": {
        "id": "5aRh5rHUW-s0"
      }
    },
    {
      "cell_type": "code",
      "source": [
        "class_counts = data['label'].value_counts()\n",
        "reduce_count = class_counts.min() // 2\n",
        "\n",
        "reduced_data = pd.DataFrame(columns=data.columns)\n",
        "\n",
        "for label in class_counts.index:\n",
        "    class_data = data[data['label'] == label]\n",
        "    sampled_data = class_data.sample(n=reduce_count, random_state=42)\n",
        "    reduced_data = reduced_data.append(sampled_data, ignore_index=True)"
      ],
      "metadata": {
        "id": "7CoxHMmfW9gx"
      },
      "execution_count": null,
      "outputs": []
    },
    {
      "cell_type": "code",
      "source": [
        "class_counts = reduced_data['label'].value_counts()\n",
        "print(class_counts)"
      ],
      "metadata": {
        "id": "eI-mxXeuXW2S"
      },
      "execution_count": null,
      "outputs": []
    },
    {
      "cell_type": "markdown",
      "source": [
        "# Step 3\n",
        "* Split the data to training and validation"
      ],
      "metadata": {
        "id": "P-clEXHFXde5"
      }
    },
    {
      "cell_type": "code",
      "source": [
        "# Step 3 code"
      ],
      "metadata": {
        "id": "4YN-E8-AX9qf"
      },
      "execution_count": null,
      "outputs": []
    },
    {
      "cell_type": "markdown",
      "source": [
        "# Step 4\n",
        "* 轉換資料型態"
      ],
      "metadata": {
        "id": "PvAyAfCKpoag"
      }
    },
    {
      "cell_type": "code",
      "source": [
        "# Step 4 code"
      ],
      "metadata": {
        "id": "jVusgklYpuTu"
      },
      "execution_count": null,
      "outputs": []
    },
    {
      "cell_type": "code",
      "source": [
        "plt.figure(figsize=(15,15))\n",
        "i = 0\n",
        "for image, label in tf_train_data.take(8):\n",
        "    plt.subplot(1,8,i+1)\n",
        "    plt.xticks([])\n",
        "    plt.yticks([])\n",
        "    plt.imshow(image.numpy().reshape((28, 28)), cmap='gray')\n",
        "    plt.xlabel(label.numpy())\n",
        "\n",
        "    i += 1"
      ],
      "metadata": {
        "id": "VreQ0WJH5S8X"
      },
      "execution_count": null,
      "outputs": []
    },
    {
      "cell_type": "markdown",
      "source": [
        "# Step 5 Data Preprocessing\n",
        "* 資料的預處理，讓訓練速度快又精準的關鍵！"
      ],
      "metadata": {
        "id": "eSXKDRcJ5p0x"
      }
    },
    {
      "cell_type": "code",
      "source": [
        "# Step 5.1 code"
      ],
      "metadata": {
        "id": "XAteUjkm52PH"
      },
      "execution_count": null,
      "outputs": []
    },
    {
      "cell_type": "code",
      "source": [
        "# Step 5.2 code"
      ],
      "metadata": {
        "id": "9OeT8QCk6CIw"
      },
      "execution_count": null,
      "outputs": []
    },
    {
      "cell_type": "markdown",
      "source": [
        "# Step 6 定義模型"
      ],
      "metadata": {
        "id": "FwZRKUgR8LyP"
      }
    },
    {
      "cell_type": "code",
      "source": [
        "# Step 6 code"
      ],
      "metadata": {
        "id": "97HM1R0S8J74"
      },
      "execution_count": null,
      "outputs": []
    },
    {
      "cell_type": "markdown",
      "source": [
        "# Step 7 Compile"
      ],
      "metadata": {
        "id": "_HRZZ5bD_jc8"
      }
    },
    {
      "cell_type": "code",
      "source": [
        "# Step 7 code"
      ],
      "metadata": {
        "id": "19HWLCFP_l2u"
      },
      "execution_count": null,
      "outputs": []
    },
    {
      "cell_type": "markdown",
      "source": [
        "# Step 8 訓練"
      ],
      "metadata": {
        "id": "2nPxsB3dCMMP"
      }
    },
    {
      "cell_type": "code",
      "source": [
        "# Step 8.1 code"
      ],
      "metadata": {
        "id": "t4rY1cGKCOk1"
      },
      "execution_count": null,
      "outputs": []
    },
    {
      "cell_type": "code",
      "source": [
        "# Step 8.2 code"
      ],
      "metadata": {
        "id": "Bfv5I36ECQrs"
      },
      "execution_count": null,
      "outputs": []
    },
    {
      "cell_type": "markdown",
      "source": [
        "# Step 9 訓練結果"
      ],
      "metadata": {
        "id": "1mGYgzUPCX4I"
      }
    },
    {
      "cell_type": "code",
      "source": [
        "plt.plot(hist.history['accuracy'], label='accuracy')\n",
        "plt.plot(hist.history['val_accuracy'], label = 'val_accuracy')\n",
        "plt.xlabel('Epoch')\n",
        "plt.ylabel('Accuracy')\n",
        "plt.legend()\n",
        "\n",
        "print('Training accuracy: %f' % hist.history['accuracy'][-1])\n",
        "print('Validation accuracy: %f' % hist.history['val_accuracy'][-1])"
      ],
      "metadata": {
        "id": "Evv9zKM7CXft"
      },
      "execution_count": null,
      "outputs": []
    },
    {
      "cell_type": "code",
      "source": [
        "plt.plot(hist.history['loss'], label='loss')\n",
        "plt.plot(hist.history['val_loss'], label = 'val_loss')\n",
        "plt.xlabel('Epoch')\n",
        "plt.ylabel('Loss')\n",
        "plt.legend()\n",
        "\n",
        "print('Training loss: %f' % hist.history['loss'][-1])\n",
        "print('Validation loss: %f' % hist.history['val_loss'][-1])"
      ],
      "metadata": {
        "id": "MNPEc5cECe0A"
      },
      "execution_count": null,
      "outputs": []
    },
    {
      "cell_type": "markdown",
      "source": [
        "# Step 10 測試"
      ],
      "metadata": {
        "id": "qUpK-VqACqSz"
      }
    },
    {
      "cell_type": "code",
      "source": [
        "test_data = pd.read_csv('/content/test.csv')\n",
        "tf_test_data = tf.data.Dataset.from_tensor_slices(([test_data.to_numpy().reshape(len(test_data), 28, 28, 1)]))"
      ],
      "metadata": {
        "id": "HdSKOHz7CsiR"
      },
      "execution_count": null,
      "outputs": []
    },
    {
      "cell_type": "code",
      "source": [
        "# Step 10 code\n"
      ],
      "metadata": {
        "id": "ALNvAR-GCtrM"
      },
      "execution_count": null,
      "outputs": []
    },
    {
      "cell_type": "code",
      "source": [
        "plt.figure(figsize=(15,15))\n",
        "i = 0\n",
        "for i, row in test_data.head(20).iterrows():\n",
        "    plt.subplot(4,5,i+1)\n",
        "    plt.xticks([])\n",
        "    plt.yticks([])\n",
        "    plt.imshow(row.values.reshape((28, 28)), cmap='gray')\n",
        "    plt.xlabel(result[i])"
      ],
      "metadata": {
        "id": "SIC6u1gdD8yH"
      },
      "execution_count": null,
      "outputs": []
    },
    {
      "cell_type": "markdown",
      "source": [
        "# 測測看自己寫的字"
      ],
      "metadata": {
        "id": "6v3pa4lnED27"
      }
    }
  ]
}